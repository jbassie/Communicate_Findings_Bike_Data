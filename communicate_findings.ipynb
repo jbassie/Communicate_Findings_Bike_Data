{
 "cells": [
  {
   "cell_type": "markdown",
   "metadata": {},
   "source": [
    "## INTRODUCTION\n",
    "Ford GoBike is a regional public bicycle sharing system in the San Francisco Bay Area, California. Beginning operatoin in August 2013 as Bay Area Bike Share, the Ford GoBike System currently has over 2,600 bicycles in 262 stations across San Francisco, East Bay and San Jose. On June 28, 2017 the system officiall launched as Gord GoBIke in partnership with FOrd Motor Company. The System is expected to expand to 7,000 bicycles around 540 stations in San Francisco, Oakland, Berekely, EmeryVille and San Jose. The System is OPerated by Motivate in a Partnership with the Metropolitan Transporttaion Commission and the  Bay Area Air Quality District. Ford GoBike is the first regional and large-sclae bicycle sharing system deployed in california and on the West Coast of the United States"
   ]
  },
  {
   "cell_type": "markdown",
   "metadata": {},
   "source": [
    "## DATA WRANGLING"
   ]
  },
  {
   "cell_type": "markdown",
   "metadata": {},
   "source": [
    "### Gathering Data"
   ]
  },
  {
   "cell_type": "code",
   "execution_count": 177,
   "metadata": {},
   "outputs": [],
   "source": [
    "# import all packages and set plots to be embedded inline\n",
    "import pandas as pd\n",
    "import numpy as np\n",
    "import seaborn as sns\n",
    "import matplotlib.pyplot as plt\n",
    "from IPython.display import Image\n",
    "%matplotlib inline"
   ]
  },
  {
   "cell_type": "code",
   "execution_count": 178,
   "metadata": {},
   "outputs": [
    {
     "data": {
      "text/html": [
       "<div>\n",
       "<style scoped>\n",
       "    .dataframe tbody tr th:only-of-type {\n",
       "        vertical-align: middle;\n",
       "    }\n",
       "\n",
       "    .dataframe tbody tr th {\n",
       "        vertical-align: top;\n",
       "    }\n",
       "\n",
       "    .dataframe thead th {\n",
       "        text-align: right;\n",
       "    }\n",
       "</style>\n",
       "<table border=\"1\" class=\"dataframe\">\n",
       "  <thead>\n",
       "    <tr style=\"text-align: right;\">\n",
       "      <th></th>\n",
       "      <th>duration_sec</th>\n",
       "      <th>start_time</th>\n",
       "      <th>end_time</th>\n",
       "      <th>start_station_id</th>\n",
       "      <th>start_station_name</th>\n",
       "      <th>start_station_latitude</th>\n",
       "      <th>start_station_longitude</th>\n",
       "      <th>end_station_id</th>\n",
       "      <th>end_station_name</th>\n",
       "      <th>end_station_latitude</th>\n",
       "      <th>end_station_longitude</th>\n",
       "      <th>bike_id</th>\n",
       "      <th>user_type</th>\n",
       "      <th>member_birth_year</th>\n",
       "      <th>member_gender</th>\n",
       "      <th>bike_share_for_all_trip</th>\n",
       "    </tr>\n",
       "  </thead>\n",
       "  <tbody>\n",
       "    <tr>\n",
       "      <th>0</th>\n",
       "      <td>52185</td>\n",
       "      <td>2019-02-28 17:32:10.1450</td>\n",
       "      <td>2019-03-01 08:01:55.9750</td>\n",
       "      <td>21.0</td>\n",
       "      <td>Montgomery St BART Station (Market St at 2nd St)</td>\n",
       "      <td>37.789625</td>\n",
       "      <td>-122.400811</td>\n",
       "      <td>13.0</td>\n",
       "      <td>Commercial St at Montgomery St</td>\n",
       "      <td>37.794231</td>\n",
       "      <td>-122.402923</td>\n",
       "      <td>4902</td>\n",
       "      <td>Customer</td>\n",
       "      <td>1984.0</td>\n",
       "      <td>Male</td>\n",
       "      <td>No</td>\n",
       "    </tr>\n",
       "    <tr>\n",
       "      <th>1</th>\n",
       "      <td>42521</td>\n",
       "      <td>2019-02-28 18:53:21.7890</td>\n",
       "      <td>2019-03-01 06:42:03.0560</td>\n",
       "      <td>23.0</td>\n",
       "      <td>The Embarcadero at Steuart St</td>\n",
       "      <td>37.791464</td>\n",
       "      <td>-122.391034</td>\n",
       "      <td>81.0</td>\n",
       "      <td>Berry St at 4th St</td>\n",
       "      <td>37.775880</td>\n",
       "      <td>-122.393170</td>\n",
       "      <td>2535</td>\n",
       "      <td>Customer</td>\n",
       "      <td>NaN</td>\n",
       "      <td>NaN</td>\n",
       "      <td>No</td>\n",
       "    </tr>\n",
       "    <tr>\n",
       "      <th>2</th>\n",
       "      <td>61854</td>\n",
       "      <td>2019-02-28 12:13:13.2180</td>\n",
       "      <td>2019-03-01 05:24:08.1460</td>\n",
       "      <td>86.0</td>\n",
       "      <td>Market St at Dolores St</td>\n",
       "      <td>37.769305</td>\n",
       "      <td>-122.426826</td>\n",
       "      <td>3.0</td>\n",
       "      <td>Powell St BART Station (Market St at 4th St)</td>\n",
       "      <td>37.786375</td>\n",
       "      <td>-122.404904</td>\n",
       "      <td>5905</td>\n",
       "      <td>Customer</td>\n",
       "      <td>1972.0</td>\n",
       "      <td>Male</td>\n",
       "      <td>No</td>\n",
       "    </tr>\n",
       "    <tr>\n",
       "      <th>3</th>\n",
       "      <td>36490</td>\n",
       "      <td>2019-02-28 17:54:26.0100</td>\n",
       "      <td>2019-03-01 04:02:36.8420</td>\n",
       "      <td>375.0</td>\n",
       "      <td>Grove St at Masonic Ave</td>\n",
       "      <td>37.774836</td>\n",
       "      <td>-122.446546</td>\n",
       "      <td>70.0</td>\n",
       "      <td>Central Ave at Fell St</td>\n",
       "      <td>37.773311</td>\n",
       "      <td>-122.444293</td>\n",
       "      <td>6638</td>\n",
       "      <td>Subscriber</td>\n",
       "      <td>1989.0</td>\n",
       "      <td>Other</td>\n",
       "      <td>No</td>\n",
       "    </tr>\n",
       "    <tr>\n",
       "      <th>4</th>\n",
       "      <td>1585</td>\n",
       "      <td>2019-02-28 23:54:18.5490</td>\n",
       "      <td>2019-03-01 00:20:44.0740</td>\n",
       "      <td>7.0</td>\n",
       "      <td>Frank H Ogawa Plaza</td>\n",
       "      <td>37.804562</td>\n",
       "      <td>-122.271738</td>\n",
       "      <td>222.0</td>\n",
       "      <td>10th Ave at E 15th St</td>\n",
       "      <td>37.792714</td>\n",
       "      <td>-122.248780</td>\n",
       "      <td>4898</td>\n",
       "      <td>Subscriber</td>\n",
       "      <td>1974.0</td>\n",
       "      <td>Male</td>\n",
       "      <td>Yes</td>\n",
       "    </tr>\n",
       "  </tbody>\n",
       "</table>\n",
       "</div>"
      ],
      "text/plain": [
       "   duration_sec                start_time                  end_time  \\\n",
       "0         52185  2019-02-28 17:32:10.1450  2019-03-01 08:01:55.9750   \n",
       "1         42521  2019-02-28 18:53:21.7890  2019-03-01 06:42:03.0560   \n",
       "2         61854  2019-02-28 12:13:13.2180  2019-03-01 05:24:08.1460   \n",
       "3         36490  2019-02-28 17:54:26.0100  2019-03-01 04:02:36.8420   \n",
       "4          1585  2019-02-28 23:54:18.5490  2019-03-01 00:20:44.0740   \n",
       "\n",
       "   start_station_id                                start_station_name  \\\n",
       "0              21.0  Montgomery St BART Station (Market St at 2nd St)   \n",
       "1              23.0                     The Embarcadero at Steuart St   \n",
       "2              86.0                           Market St at Dolores St   \n",
       "3             375.0                           Grove St at Masonic Ave   \n",
       "4               7.0                               Frank H Ogawa Plaza   \n",
       "\n",
       "   start_station_latitude  start_station_longitude  end_station_id  \\\n",
       "0               37.789625              -122.400811            13.0   \n",
       "1               37.791464              -122.391034            81.0   \n",
       "2               37.769305              -122.426826             3.0   \n",
       "3               37.774836              -122.446546            70.0   \n",
       "4               37.804562              -122.271738           222.0   \n",
       "\n",
       "                               end_station_name  end_station_latitude  \\\n",
       "0                Commercial St at Montgomery St             37.794231   \n",
       "1                            Berry St at 4th St             37.775880   \n",
       "2  Powell St BART Station (Market St at 4th St)             37.786375   \n",
       "3                        Central Ave at Fell St             37.773311   \n",
       "4                         10th Ave at E 15th St             37.792714   \n",
       "\n",
       "   end_station_longitude  bike_id   user_type  member_birth_year  \\\n",
       "0            -122.402923     4902    Customer             1984.0   \n",
       "1            -122.393170     2535    Customer                NaN   \n",
       "2            -122.404904     5905    Customer             1972.0   \n",
       "3            -122.444293     6638  Subscriber             1989.0   \n",
       "4            -122.248780     4898  Subscriber             1974.0   \n",
       "\n",
       "  member_gender bike_share_for_all_trip  \n",
       "0          Male                      No  \n",
       "1           NaN                      No  \n",
       "2          Male                      No  \n",
       "3         Other                      No  \n",
       "4          Male                     Yes  "
      ]
     },
     "execution_count": 178,
     "metadata": {},
     "output_type": "execute_result"
    }
   ],
   "source": [
    "#import the data\n",
    "data = pd.read_csv('201902-fordgobike-tripdata.csv')\n",
    "data.head()"
   ]
  },
  {
   "cell_type": "markdown",
   "metadata": {},
   "source": [
    "### Assessing the data Visually"
   ]
  },
  {
   "cell_type": "code",
   "execution_count": 179,
   "metadata": {},
   "outputs": [
    {
     "data": {
      "text/html": [
       "<div>\n",
       "<style scoped>\n",
       "    .dataframe tbody tr th:only-of-type {\n",
       "        vertical-align: middle;\n",
       "    }\n",
       "\n",
       "    .dataframe tbody tr th {\n",
       "        vertical-align: top;\n",
       "    }\n",
       "\n",
       "    .dataframe thead th {\n",
       "        text-align: right;\n",
       "    }\n",
       "</style>\n",
       "<table border=\"1\" class=\"dataframe\">\n",
       "  <thead>\n",
       "    <tr style=\"text-align: right;\">\n",
       "      <th></th>\n",
       "      <th>duration_sec</th>\n",
       "      <th>start_time</th>\n",
       "      <th>end_time</th>\n",
       "      <th>start_station_id</th>\n",
       "      <th>start_station_name</th>\n",
       "      <th>start_station_latitude</th>\n",
       "      <th>start_station_longitude</th>\n",
       "      <th>end_station_id</th>\n",
       "      <th>end_station_name</th>\n",
       "      <th>end_station_latitude</th>\n",
       "      <th>end_station_longitude</th>\n",
       "      <th>bike_id</th>\n",
       "      <th>user_type</th>\n",
       "      <th>member_birth_year</th>\n",
       "      <th>member_gender</th>\n",
       "      <th>bike_share_for_all_trip</th>\n",
       "    </tr>\n",
       "  </thead>\n",
       "  <tbody>\n",
       "    <tr>\n",
       "      <th>169019</th>\n",
       "      <td>1528</td>\n",
       "      <td>2019-02-04 12:18:25.4570</td>\n",
       "      <td>2019-02-04 12:43:53.9140</td>\n",
       "      <td>121.0</td>\n",
       "      <td>Mission Playground</td>\n",
       "      <td>37.759210</td>\n",
       "      <td>-122.421339</td>\n",
       "      <td>6.0</td>\n",
       "      <td>The Embarcadero at Sansome St</td>\n",
       "      <td>37.804770</td>\n",
       "      <td>-122.403234</td>\n",
       "      <td>5296</td>\n",
       "      <td>Subscriber</td>\n",
       "      <td>1986.0</td>\n",
       "      <td>Female</td>\n",
       "      <td>No</td>\n",
       "    </tr>\n",
       "    <tr>\n",
       "      <th>28104</th>\n",
       "      <td>664</td>\n",
       "      <td>2019-02-25 08:54:10.4620</td>\n",
       "      <td>2019-02-25 09:05:15.4140</td>\n",
       "      <td>30.0</td>\n",
       "      <td>San Francisco Caltrain (Townsend St at 4th St)</td>\n",
       "      <td>37.776598</td>\n",
       "      <td>-122.395282</td>\n",
       "      <td>15.0</td>\n",
       "      <td>San Francisco Ferry Building (Harry Bridges Pl...</td>\n",
       "      <td>37.795392</td>\n",
       "      <td>-122.394203</td>\n",
       "      <td>6540</td>\n",
       "      <td>Subscriber</td>\n",
       "      <td>1981.0</td>\n",
       "      <td>Male</td>\n",
       "      <td>No</td>\n",
       "    </tr>\n",
       "    <tr>\n",
       "      <th>178110</th>\n",
       "      <td>176</td>\n",
       "      <td>2019-02-01 17:54:14.6050</td>\n",
       "      <td>2019-02-01 17:57:11.3340</td>\n",
       "      <td>160.0</td>\n",
       "      <td>West Oakland BART Station</td>\n",
       "      <td>37.805318</td>\n",
       "      <td>-122.294837</td>\n",
       "      <td>235.0</td>\n",
       "      <td>Union St at 10th St</td>\n",
       "      <td>37.807239</td>\n",
       "      <td>-122.289370</td>\n",
       "      <td>3719</td>\n",
       "      <td>Subscriber</td>\n",
       "      <td>1987.0</td>\n",
       "      <td>Male</td>\n",
       "      <td>Yes</td>\n",
       "    </tr>\n",
       "    <tr>\n",
       "      <th>117158</th>\n",
       "      <td>1339</td>\n",
       "      <td>2019-02-12 03:18:56.4160</td>\n",
       "      <td>2019-02-12 03:41:15.8560</td>\n",
       "      <td>34.0</td>\n",
       "      <td>Father Alfred E Boeddeker Park</td>\n",
       "      <td>37.783988</td>\n",
       "      <td>-122.412408</td>\n",
       "      <td>34.0</td>\n",
       "      <td>Father Alfred E Boeddeker Park</td>\n",
       "      <td>37.783988</td>\n",
       "      <td>-122.412408</td>\n",
       "      <td>4921</td>\n",
       "      <td>Subscriber</td>\n",
       "      <td>1972.0</td>\n",
       "      <td>Male</td>\n",
       "      <td>Yes</td>\n",
       "    </tr>\n",
       "    <tr>\n",
       "      <th>19805</th>\n",
       "      <td>821</td>\n",
       "      <td>2019-02-26 15:43:35.3930</td>\n",
       "      <td>2019-02-26 15:57:16.5990</td>\n",
       "      <td>28.0</td>\n",
       "      <td>The Embarcadero at Bryant St</td>\n",
       "      <td>37.787168</td>\n",
       "      <td>-122.388098</td>\n",
       "      <td>41.0</td>\n",
       "      <td>Golden Gate Ave at Polk St</td>\n",
       "      <td>37.781270</td>\n",
       "      <td>-122.418740</td>\n",
       "      <td>4407</td>\n",
       "      <td>Subscriber</td>\n",
       "      <td>1970.0</td>\n",
       "      <td>Male</td>\n",
       "      <td>No</td>\n",
       "    </tr>\n",
       "    <tr>\n",
       "      <th>156742</th>\n",
       "      <td>296</td>\n",
       "      <td>2019-02-06 07:32:58.4580</td>\n",
       "      <td>2019-02-06 07:37:55.0570</td>\n",
       "      <td>350.0</td>\n",
       "      <td>8th St at Brannan St</td>\n",
       "      <td>37.771431</td>\n",
       "      <td>-122.405787</td>\n",
       "      <td>67.0</td>\n",
       "      <td>San Francisco Caltrain Station 2  (Townsend St...</td>\n",
       "      <td>37.776639</td>\n",
       "      <td>-122.395526</td>\n",
       "      <td>1844</td>\n",
       "      <td>Subscriber</td>\n",
       "      <td>1982.0</td>\n",
       "      <td>Male</td>\n",
       "      <td>No</td>\n",
       "    </tr>\n",
       "    <tr>\n",
       "      <th>103040</th>\n",
       "      <td>316</td>\n",
       "      <td>2019-02-14 14:55:18.7460</td>\n",
       "      <td>2019-02-14 15:00:35.6150</td>\n",
       "      <td>308.0</td>\n",
       "      <td>San Pedro Square</td>\n",
       "      <td>37.336802</td>\n",
       "      <td>-121.894090</td>\n",
       "      <td>278.0</td>\n",
       "      <td>The Alameda at Bush St</td>\n",
       "      <td>37.331932</td>\n",
       "      <td>-121.904888</td>\n",
       "      <td>3981</td>\n",
       "      <td>Subscriber</td>\n",
       "      <td>1966.0</td>\n",
       "      <td>Male</td>\n",
       "      <td>No</td>\n",
       "    </tr>\n",
       "    <tr>\n",
       "      <th>39951</th>\n",
       "      <td>196</td>\n",
       "      <td>2019-02-22 23:31:46.9580</td>\n",
       "      <td>2019-02-22 23:35:03.2640</td>\n",
       "      <td>73.0</td>\n",
       "      <td>Pierce St at Haight St</td>\n",
       "      <td>37.771793</td>\n",
       "      <td>-122.433708</td>\n",
       "      <td>105.0</td>\n",
       "      <td>16th St at Prosper St</td>\n",
       "      <td>37.764285</td>\n",
       "      <td>-122.431804</td>\n",
       "      <td>5371</td>\n",
       "      <td>Subscriber</td>\n",
       "      <td>1988.0</td>\n",
       "      <td>Male</td>\n",
       "      <td>No</td>\n",
       "    </tr>\n",
       "    <tr>\n",
       "      <th>35300</th>\n",
       "      <td>716</td>\n",
       "      <td>2019-02-23 18:58:51.4910</td>\n",
       "      <td>2019-02-23 19:10:48.2820</td>\n",
       "      <td>296.0</td>\n",
       "      <td>5th St at Virginia St</td>\n",
       "      <td>37.325998</td>\n",
       "      <td>-121.877120</td>\n",
       "      <td>310.0</td>\n",
       "      <td>San Fernando St at 4th St</td>\n",
       "      <td>37.335885</td>\n",
       "      <td>-121.885660</td>\n",
       "      <td>6373</td>\n",
       "      <td>Subscriber</td>\n",
       "      <td>1994.0</td>\n",
       "      <td>Female</td>\n",
       "      <td>Yes</td>\n",
       "    </tr>\n",
       "    <tr>\n",
       "      <th>71067</th>\n",
       "      <td>1014</td>\n",
       "      <td>2019-02-19 17:37:22.1830</td>\n",
       "      <td>2019-02-19 17:54:16.8010</td>\n",
       "      <td>67.0</td>\n",
       "      <td>San Francisco Caltrain Station 2  (Townsend St...</td>\n",
       "      <td>37.776639</td>\n",
       "      <td>-122.395526</td>\n",
       "      <td>285.0</td>\n",
       "      <td>Webster St at O'Farrell St</td>\n",
       "      <td>37.783521</td>\n",
       "      <td>-122.431158</td>\n",
       "      <td>6471</td>\n",
       "      <td>Subscriber</td>\n",
       "      <td>1992.0</td>\n",
       "      <td>Female</td>\n",
       "      <td>No</td>\n",
       "    </tr>\n",
       "    <tr>\n",
       "      <th>24459</th>\n",
       "      <td>575</td>\n",
       "      <td>2019-02-25 18:12:01.9260</td>\n",
       "      <td>2019-02-25 18:21:37.8970</td>\n",
       "      <td>355.0</td>\n",
       "      <td>23rd St at Tennessee St</td>\n",
       "      <td>37.755367</td>\n",
       "      <td>-122.388795</td>\n",
       "      <td>62.0</td>\n",
       "      <td>Victoria Manalo Draves Park</td>\n",
       "      <td>37.777791</td>\n",
       "      <td>-122.406432</td>\n",
       "      <td>5059</td>\n",
       "      <td>Subscriber</td>\n",
       "      <td>1983.0</td>\n",
       "      <td>Male</td>\n",
       "      <td>No</td>\n",
       "    </tr>\n",
       "    <tr>\n",
       "      <th>117270</th>\n",
       "      <td>777</td>\n",
       "      <td>2019-02-11 23:05:33.4650</td>\n",
       "      <td>2019-02-11 23:18:31.3220</td>\n",
       "      <td>127.0</td>\n",
       "      <td>Valencia St at 21st St</td>\n",
       "      <td>37.756708</td>\n",
       "      <td>-122.421025</td>\n",
       "      <td>136.0</td>\n",
       "      <td>23rd St at San Bruno Ave</td>\n",
       "      <td>37.754436</td>\n",
       "      <td>-122.404364</td>\n",
       "      <td>5229</td>\n",
       "      <td>Subscriber</td>\n",
       "      <td>NaN</td>\n",
       "      <td>NaN</td>\n",
       "      <td>No</td>\n",
       "    </tr>\n",
       "    <tr>\n",
       "      <th>176023</th>\n",
       "      <td>576</td>\n",
       "      <td>2019-02-02 12:43:10.3980</td>\n",
       "      <td>2019-02-02 12:52:47.1690</td>\n",
       "      <td>136.0</td>\n",
       "      <td>23rd St at San Bruno Ave</td>\n",
       "      <td>37.754436</td>\n",
       "      <td>-122.404364</td>\n",
       "      <td>63.0</td>\n",
       "      <td>Bryant St at 6th St</td>\n",
       "      <td>37.775910</td>\n",
       "      <td>-122.402575</td>\n",
       "      <td>5348</td>\n",
       "      <td>Subscriber</td>\n",
       "      <td>1995.0</td>\n",
       "      <td>Male</td>\n",
       "      <td>No</td>\n",
       "    </tr>\n",
       "    <tr>\n",
       "      <th>90738</th>\n",
       "      <td>657</td>\n",
       "      <td>2019-02-16 11:36:42.0560</td>\n",
       "      <td>2019-02-16 11:47:39.4360</td>\n",
       "      <td>22.0</td>\n",
       "      <td>Howard St at Beale St</td>\n",
       "      <td>37.789756</td>\n",
       "      <td>-122.394643</td>\n",
       "      <td>79.0</td>\n",
       "      <td>7th St at Brannan St</td>\n",
       "      <td>37.773492</td>\n",
       "      <td>-122.403673</td>\n",
       "      <td>5281</td>\n",
       "      <td>Subscriber</td>\n",
       "      <td>1985.0</td>\n",
       "      <td>Female</td>\n",
       "      <td>No</td>\n",
       "    </tr>\n",
       "    <tr>\n",
       "      <th>22237</th>\n",
       "      <td>769</td>\n",
       "      <td>2019-02-26 08:17:05.2830</td>\n",
       "      <td>2019-02-26 08:29:54.4490</td>\n",
       "      <td>144.0</td>\n",
       "      <td>Precita Park</td>\n",
       "      <td>37.747300</td>\n",
       "      <td>-122.411403</td>\n",
       "      <td>58.0</td>\n",
       "      <td>Market St at 10th St</td>\n",
       "      <td>37.776619</td>\n",
       "      <td>-122.417385</td>\n",
       "      <td>5299</td>\n",
       "      <td>Subscriber</td>\n",
       "      <td>1974.0</td>\n",
       "      <td>Other</td>\n",
       "      <td>No</td>\n",
       "    </tr>\n",
       "    <tr>\n",
       "      <th>72145</th>\n",
       "      <td>311</td>\n",
       "      <td>2019-02-19 16:53:51.9990</td>\n",
       "      <td>2019-02-19 16:59:03.3460</td>\n",
       "      <td>243.0</td>\n",
       "      <td>Bancroft Way at College Ave</td>\n",
       "      <td>37.869360</td>\n",
       "      <td>-122.254337</td>\n",
       "      <td>249.0</td>\n",
       "      <td>Russell St at College Ave</td>\n",
       "      <td>37.858473</td>\n",
       "      <td>-122.253253</td>\n",
       "      <td>1223</td>\n",
       "      <td>Subscriber</td>\n",
       "      <td>1965.0</td>\n",
       "      <td>Male</td>\n",
       "      <td>No</td>\n",
       "    </tr>\n",
       "    <tr>\n",
       "      <th>171499</th>\n",
       "      <td>307</td>\n",
       "      <td>2019-02-03 20:18:47.8770</td>\n",
       "      <td>2019-02-03 20:23:54.9840</td>\n",
       "      <td>58.0</td>\n",
       "      <td>Market St at 10th St</td>\n",
       "      <td>37.776619</td>\n",
       "      <td>-122.417385</td>\n",
       "      <td>85.0</td>\n",
       "      <td>Church St at Duboce Ave</td>\n",
       "      <td>37.770083</td>\n",
       "      <td>-122.429156</td>\n",
       "      <td>5245</td>\n",
       "      <td>Subscriber</td>\n",
       "      <td>1983.0</td>\n",
       "      <td>Male</td>\n",
       "      <td>Yes</td>\n",
       "    </tr>\n",
       "    <tr>\n",
       "      <th>32634</th>\n",
       "      <td>674</td>\n",
       "      <td>2019-02-24 13:53:04.3740</td>\n",
       "      <td>2019-02-24 14:04:18.9520</td>\n",
       "      <td>6.0</td>\n",
       "      <td>The Embarcadero at Sansome St</td>\n",
       "      <td>37.804770</td>\n",
       "      <td>-122.403234</td>\n",
       "      <td>50.0</td>\n",
       "      <td>2nd St at Townsend St</td>\n",
       "      <td>37.780526</td>\n",
       "      <td>-122.390288</td>\n",
       "      <td>6232</td>\n",
       "      <td>Subscriber</td>\n",
       "      <td>NaN</td>\n",
       "      <td>NaN</td>\n",
       "      <td>No</td>\n",
       "    </tr>\n",
       "    <tr>\n",
       "      <th>79382</th>\n",
       "      <td>756</td>\n",
       "      <td>2019-02-18 17:33:08.7250</td>\n",
       "      <td>2019-02-18 17:45:45.5170</td>\n",
       "      <td>99.0</td>\n",
       "      <td>Folsom St at 15th St</td>\n",
       "      <td>37.767037</td>\n",
       "      <td>-122.415443</td>\n",
       "      <td>142.0</td>\n",
       "      <td>Guerrero Park</td>\n",
       "      <td>37.745739</td>\n",
       "      <td>-122.422140</td>\n",
       "      <td>4758</td>\n",
       "      <td>Subscriber</td>\n",
       "      <td>1963.0</td>\n",
       "      <td>Female</td>\n",
       "      <td>No</td>\n",
       "    </tr>\n",
       "    <tr>\n",
       "      <th>124871</th>\n",
       "      <td>990</td>\n",
       "      <td>2019-02-11 08:03:26.7240</td>\n",
       "      <td>2019-02-11 08:19:57.7050</td>\n",
       "      <td>109.0</td>\n",
       "      <td>17th St at Valencia St</td>\n",
       "      <td>37.763316</td>\n",
       "      <td>-122.421904</td>\n",
       "      <td>26.0</td>\n",
       "      <td>1st St at Folsom St</td>\n",
       "      <td>37.787290</td>\n",
       "      <td>-122.394380</td>\n",
       "      <td>4653</td>\n",
       "      <td>Subscriber</td>\n",
       "      <td>1976.0</td>\n",
       "      <td>Male</td>\n",
       "      <td>No</td>\n",
       "    </tr>\n",
       "  </tbody>\n",
       "</table>\n",
       "</div>"
      ],
      "text/plain": [
       "        duration_sec                start_time                  end_time  \\\n",
       "169019          1528  2019-02-04 12:18:25.4570  2019-02-04 12:43:53.9140   \n",
       "28104            664  2019-02-25 08:54:10.4620  2019-02-25 09:05:15.4140   \n",
       "178110           176  2019-02-01 17:54:14.6050  2019-02-01 17:57:11.3340   \n",
       "117158          1339  2019-02-12 03:18:56.4160  2019-02-12 03:41:15.8560   \n",
       "19805            821  2019-02-26 15:43:35.3930  2019-02-26 15:57:16.5990   \n",
       "156742           296  2019-02-06 07:32:58.4580  2019-02-06 07:37:55.0570   \n",
       "103040           316  2019-02-14 14:55:18.7460  2019-02-14 15:00:35.6150   \n",
       "39951            196  2019-02-22 23:31:46.9580  2019-02-22 23:35:03.2640   \n",
       "35300            716  2019-02-23 18:58:51.4910  2019-02-23 19:10:48.2820   \n",
       "71067           1014  2019-02-19 17:37:22.1830  2019-02-19 17:54:16.8010   \n",
       "24459            575  2019-02-25 18:12:01.9260  2019-02-25 18:21:37.8970   \n",
       "117270           777  2019-02-11 23:05:33.4650  2019-02-11 23:18:31.3220   \n",
       "176023           576  2019-02-02 12:43:10.3980  2019-02-02 12:52:47.1690   \n",
       "90738            657  2019-02-16 11:36:42.0560  2019-02-16 11:47:39.4360   \n",
       "22237            769  2019-02-26 08:17:05.2830  2019-02-26 08:29:54.4490   \n",
       "72145            311  2019-02-19 16:53:51.9990  2019-02-19 16:59:03.3460   \n",
       "171499           307  2019-02-03 20:18:47.8770  2019-02-03 20:23:54.9840   \n",
       "32634            674  2019-02-24 13:53:04.3740  2019-02-24 14:04:18.9520   \n",
       "79382            756  2019-02-18 17:33:08.7250  2019-02-18 17:45:45.5170   \n",
       "124871           990  2019-02-11 08:03:26.7240  2019-02-11 08:19:57.7050   \n",
       "\n",
       "        start_station_id                                 start_station_name  \\\n",
       "169019             121.0                                 Mission Playground   \n",
       "28104               30.0     San Francisco Caltrain (Townsend St at 4th St)   \n",
       "178110             160.0                          West Oakland BART Station   \n",
       "117158              34.0                     Father Alfred E Boeddeker Park   \n",
       "19805               28.0                       The Embarcadero at Bryant St   \n",
       "156742             350.0                               8th St at Brannan St   \n",
       "103040             308.0                                   San Pedro Square   \n",
       "39951               73.0                             Pierce St at Haight St   \n",
       "35300              296.0                              5th St at Virginia St   \n",
       "71067               67.0  San Francisco Caltrain Station 2  (Townsend St...   \n",
       "24459              355.0                            23rd St at Tennessee St   \n",
       "117270             127.0                             Valencia St at 21st St   \n",
       "176023             136.0                           23rd St at San Bruno Ave   \n",
       "90738               22.0                              Howard St at Beale St   \n",
       "22237              144.0                                       Precita Park   \n",
       "72145              243.0                        Bancroft Way at College Ave   \n",
       "171499              58.0                               Market St at 10th St   \n",
       "32634                6.0                      The Embarcadero at Sansome St   \n",
       "79382               99.0                               Folsom St at 15th St   \n",
       "124871             109.0                             17th St at Valencia St   \n",
       "\n",
       "        start_station_latitude  start_station_longitude  end_station_id  \\\n",
       "169019               37.759210              -122.421339             6.0   \n",
       "28104                37.776598              -122.395282            15.0   \n",
       "178110               37.805318              -122.294837           235.0   \n",
       "117158               37.783988              -122.412408            34.0   \n",
       "19805                37.787168              -122.388098            41.0   \n",
       "156742               37.771431              -122.405787            67.0   \n",
       "103040               37.336802              -121.894090           278.0   \n",
       "39951                37.771793              -122.433708           105.0   \n",
       "35300                37.325998              -121.877120           310.0   \n",
       "71067                37.776639              -122.395526           285.0   \n",
       "24459                37.755367              -122.388795            62.0   \n",
       "117270               37.756708              -122.421025           136.0   \n",
       "176023               37.754436              -122.404364            63.0   \n",
       "90738                37.789756              -122.394643            79.0   \n",
       "22237                37.747300              -122.411403            58.0   \n",
       "72145                37.869360              -122.254337           249.0   \n",
       "171499               37.776619              -122.417385            85.0   \n",
       "32634                37.804770              -122.403234            50.0   \n",
       "79382                37.767037              -122.415443           142.0   \n",
       "124871               37.763316              -122.421904            26.0   \n",
       "\n",
       "                                         end_station_name  \\\n",
       "169019                      The Embarcadero at Sansome St   \n",
       "28104   San Francisco Ferry Building (Harry Bridges Pl...   \n",
       "178110                                Union St at 10th St   \n",
       "117158                     Father Alfred E Boeddeker Park   \n",
       "19805                          Golden Gate Ave at Polk St   \n",
       "156742  San Francisco Caltrain Station 2  (Townsend St...   \n",
       "103040                             The Alameda at Bush St   \n",
       "39951                               16th St at Prosper St   \n",
       "35300                           San Fernando St at 4th St   \n",
       "71067                          Webster St at O'Farrell St   \n",
       "24459                         Victoria Manalo Draves Park   \n",
       "117270                           23rd St at San Bruno Ave   \n",
       "176023                                Bryant St at 6th St   \n",
       "90738                                7th St at Brannan St   \n",
       "22237                                Market St at 10th St   \n",
       "72145                           Russell St at College Ave   \n",
       "171499                            Church St at Duboce Ave   \n",
       "32634                               2nd St at Townsend St   \n",
       "79382                                       Guerrero Park   \n",
       "124871                                1st St at Folsom St   \n",
       "\n",
       "        end_station_latitude  end_station_longitude  bike_id   user_type  \\\n",
       "169019             37.804770            -122.403234     5296  Subscriber   \n",
       "28104              37.795392            -122.394203     6540  Subscriber   \n",
       "178110             37.807239            -122.289370     3719  Subscriber   \n",
       "117158             37.783988            -122.412408     4921  Subscriber   \n",
       "19805              37.781270            -122.418740     4407  Subscriber   \n",
       "156742             37.776639            -122.395526     1844  Subscriber   \n",
       "103040             37.331932            -121.904888     3981  Subscriber   \n",
       "39951              37.764285            -122.431804     5371  Subscriber   \n",
       "35300              37.335885            -121.885660     6373  Subscriber   \n",
       "71067              37.783521            -122.431158     6471  Subscriber   \n",
       "24459              37.777791            -122.406432     5059  Subscriber   \n",
       "117270             37.754436            -122.404364     5229  Subscriber   \n",
       "176023             37.775910            -122.402575     5348  Subscriber   \n",
       "90738              37.773492            -122.403673     5281  Subscriber   \n",
       "22237              37.776619            -122.417385     5299  Subscriber   \n",
       "72145              37.858473            -122.253253     1223  Subscriber   \n",
       "171499             37.770083            -122.429156     5245  Subscriber   \n",
       "32634              37.780526            -122.390288     6232  Subscriber   \n",
       "79382              37.745739            -122.422140     4758  Subscriber   \n",
       "124871             37.787290            -122.394380     4653  Subscriber   \n",
       "\n",
       "        member_birth_year member_gender bike_share_for_all_trip  \n",
       "169019             1986.0        Female                      No  \n",
       "28104              1981.0          Male                      No  \n",
       "178110             1987.0          Male                     Yes  \n",
       "117158             1972.0          Male                     Yes  \n",
       "19805              1970.0          Male                      No  \n",
       "156742             1982.0          Male                      No  \n",
       "103040             1966.0          Male                      No  \n",
       "39951              1988.0          Male                      No  \n",
       "35300              1994.0        Female                     Yes  \n",
       "71067              1992.0        Female                      No  \n",
       "24459              1983.0          Male                      No  \n",
       "117270                NaN           NaN                      No  \n",
       "176023             1995.0          Male                      No  \n",
       "90738              1985.0        Female                      No  \n",
       "22237              1974.0         Other                      No  \n",
       "72145              1965.0          Male                      No  \n",
       "171499             1983.0          Male                     Yes  \n",
       "32634                 NaN           NaN                      No  \n",
       "79382              1963.0        Female                      No  \n",
       "124871             1976.0          Male                      No  "
      ]
     },
     "execution_count": 179,
     "metadata": {},
     "output_type": "execute_result"
    }
   ],
   "source": [
    "data.sample(20)"
   ]
  },
  {
   "cell_type": "code",
   "execution_count": 180,
   "metadata": {},
   "outputs": [
    {
     "name": "stdout",
     "output_type": "stream",
     "text": [
      "<class 'pandas.core.frame.DataFrame'>\n",
      "RangeIndex: 183412 entries, 0 to 183411\n",
      "Data columns (total 16 columns):\n",
      " #   Column                   Non-Null Count   Dtype  \n",
      "---  ------                   --------------   -----  \n",
      " 0   duration_sec             183412 non-null  int64  \n",
      " 1   start_time               183412 non-null  object \n",
      " 2   end_time                 183412 non-null  object \n",
      " 3   start_station_id         183215 non-null  float64\n",
      " 4   start_station_name       183215 non-null  object \n",
      " 5   start_station_latitude   183412 non-null  float64\n",
      " 6   start_station_longitude  183412 non-null  float64\n",
      " 7   end_station_id           183215 non-null  float64\n",
      " 8   end_station_name         183215 non-null  object \n",
      " 9   end_station_latitude     183412 non-null  float64\n",
      " 10  end_station_longitude    183412 non-null  float64\n",
      " 11  bike_id                  183412 non-null  int64  \n",
      " 12  user_type                183412 non-null  object \n",
      " 13  member_birth_year        175147 non-null  float64\n",
      " 14  member_gender            175147 non-null  object \n",
      " 15  bike_share_for_all_trip  183412 non-null  object \n",
      "dtypes: float64(7), int64(2), object(7)\n",
      "memory usage: 22.4+ MB\n"
     ]
    }
   ],
   "source": [
    "#Assess the dataset programatically\n",
    "data.info()"
   ]
  },
  {
   "cell_type": "code",
   "execution_count": 181,
   "metadata": {},
   "outputs": [
    {
     "data": {
      "text/plain": [
       "0"
      ]
     },
     "execution_count": 181,
     "metadata": {},
     "output_type": "execute_result"
    }
   ],
   "source": [
    "#check if duplicates exists\n",
    "data.duplicated().sum()"
   ]
  },
  {
   "cell_type": "code",
   "execution_count": 182,
   "metadata": {},
   "outputs": [
    {
     "data": {
      "text/html": [
       "<div>\n",
       "<style scoped>\n",
       "    .dataframe tbody tr th:only-of-type {\n",
       "        vertical-align: middle;\n",
       "    }\n",
       "\n",
       "    .dataframe tbody tr th {\n",
       "        vertical-align: top;\n",
       "    }\n",
       "\n",
       "    .dataframe thead th {\n",
       "        text-align: right;\n",
       "    }\n",
       "</style>\n",
       "<table border=\"1\" class=\"dataframe\">\n",
       "  <thead>\n",
       "    <tr style=\"text-align: right;\">\n",
       "      <th></th>\n",
       "      <th>duration_sec</th>\n",
       "      <th>start_station_id</th>\n",
       "      <th>start_station_latitude</th>\n",
       "      <th>start_station_longitude</th>\n",
       "      <th>end_station_id</th>\n",
       "      <th>end_station_latitude</th>\n",
       "      <th>end_station_longitude</th>\n",
       "      <th>bike_id</th>\n",
       "      <th>member_birth_year</th>\n",
       "    </tr>\n",
       "  </thead>\n",
       "  <tbody>\n",
       "    <tr>\n",
       "      <th>count</th>\n",
       "      <td>183412.000000</td>\n",
       "      <td>183215.000000</td>\n",
       "      <td>183412.000000</td>\n",
       "      <td>183412.000000</td>\n",
       "      <td>183215.000000</td>\n",
       "      <td>183412.000000</td>\n",
       "      <td>183412.000000</td>\n",
       "      <td>183412.000000</td>\n",
       "      <td>175147.000000</td>\n",
       "    </tr>\n",
       "    <tr>\n",
       "      <th>mean</th>\n",
       "      <td>726.078435</td>\n",
       "      <td>138.590427</td>\n",
       "      <td>37.771223</td>\n",
       "      <td>-122.352664</td>\n",
       "      <td>136.249123</td>\n",
       "      <td>37.771427</td>\n",
       "      <td>-122.352250</td>\n",
       "      <td>4472.906375</td>\n",
       "      <td>1984.806437</td>\n",
       "    </tr>\n",
       "    <tr>\n",
       "      <th>std</th>\n",
       "      <td>1794.389780</td>\n",
       "      <td>111.778864</td>\n",
       "      <td>0.099581</td>\n",
       "      <td>0.117097</td>\n",
       "      <td>111.515131</td>\n",
       "      <td>0.099490</td>\n",
       "      <td>0.116673</td>\n",
       "      <td>1664.383394</td>\n",
       "      <td>10.116689</td>\n",
       "    </tr>\n",
       "    <tr>\n",
       "      <th>min</th>\n",
       "      <td>61.000000</td>\n",
       "      <td>3.000000</td>\n",
       "      <td>37.317298</td>\n",
       "      <td>-122.453704</td>\n",
       "      <td>3.000000</td>\n",
       "      <td>37.317298</td>\n",
       "      <td>-122.453704</td>\n",
       "      <td>11.000000</td>\n",
       "      <td>1878.000000</td>\n",
       "    </tr>\n",
       "    <tr>\n",
       "      <th>25%</th>\n",
       "      <td>325.000000</td>\n",
       "      <td>47.000000</td>\n",
       "      <td>37.770083</td>\n",
       "      <td>-122.412408</td>\n",
       "      <td>44.000000</td>\n",
       "      <td>37.770407</td>\n",
       "      <td>-122.411726</td>\n",
       "      <td>3777.000000</td>\n",
       "      <td>1980.000000</td>\n",
       "    </tr>\n",
       "    <tr>\n",
       "      <th>50%</th>\n",
       "      <td>514.000000</td>\n",
       "      <td>104.000000</td>\n",
       "      <td>37.780760</td>\n",
       "      <td>-122.398285</td>\n",
       "      <td>100.000000</td>\n",
       "      <td>37.781010</td>\n",
       "      <td>-122.398279</td>\n",
       "      <td>4958.000000</td>\n",
       "      <td>1987.000000</td>\n",
       "    </tr>\n",
       "    <tr>\n",
       "      <th>75%</th>\n",
       "      <td>796.000000</td>\n",
       "      <td>239.000000</td>\n",
       "      <td>37.797280</td>\n",
       "      <td>-122.286533</td>\n",
       "      <td>235.000000</td>\n",
       "      <td>37.797320</td>\n",
       "      <td>-122.288045</td>\n",
       "      <td>5502.000000</td>\n",
       "      <td>1992.000000</td>\n",
       "    </tr>\n",
       "    <tr>\n",
       "      <th>max</th>\n",
       "      <td>85444.000000</td>\n",
       "      <td>398.000000</td>\n",
       "      <td>37.880222</td>\n",
       "      <td>-121.874119</td>\n",
       "      <td>398.000000</td>\n",
       "      <td>37.880222</td>\n",
       "      <td>-121.874119</td>\n",
       "      <td>6645.000000</td>\n",
       "      <td>2001.000000</td>\n",
       "    </tr>\n",
       "  </tbody>\n",
       "</table>\n",
       "</div>"
      ],
      "text/plain": [
       "        duration_sec  start_station_id  start_station_latitude  \\\n",
       "count  183412.000000     183215.000000           183412.000000   \n",
       "mean      726.078435        138.590427               37.771223   \n",
       "std      1794.389780        111.778864                0.099581   \n",
       "min        61.000000          3.000000               37.317298   \n",
       "25%       325.000000         47.000000               37.770083   \n",
       "50%       514.000000        104.000000               37.780760   \n",
       "75%       796.000000        239.000000               37.797280   \n",
       "max     85444.000000        398.000000               37.880222   \n",
       "\n",
       "       start_station_longitude  end_station_id  end_station_latitude  \\\n",
       "count            183412.000000   183215.000000         183412.000000   \n",
       "mean               -122.352664      136.249123             37.771427   \n",
       "std                   0.117097      111.515131              0.099490   \n",
       "min                -122.453704        3.000000             37.317298   \n",
       "25%                -122.412408       44.000000             37.770407   \n",
       "50%                -122.398285      100.000000             37.781010   \n",
       "75%                -122.286533      235.000000             37.797320   \n",
       "max                -121.874119      398.000000             37.880222   \n",
       "\n",
       "       end_station_longitude        bike_id  member_birth_year  \n",
       "count          183412.000000  183412.000000      175147.000000  \n",
       "mean             -122.352250    4472.906375        1984.806437  \n",
       "std                 0.116673    1664.383394          10.116689  \n",
       "min              -122.453704      11.000000        1878.000000  \n",
       "25%              -122.411726    3777.000000        1980.000000  \n",
       "50%              -122.398279    4958.000000        1987.000000  \n",
       "75%              -122.288045    5502.000000        1992.000000  \n",
       "max              -121.874119    6645.000000        2001.000000  "
      ]
     },
     "execution_count": 182,
     "metadata": {},
     "output_type": "execute_result"
    }
   ],
   "source": [
    "#View descriptive Statistic of the dataFrame\n",
    "data.describe()"
   ]
  },
  {
   "cell_type": "code",
   "execution_count": 183,
   "metadata": {},
   "outputs": [
    {
     "data": {
      "text/plain": [
       "(183412, 16)"
      ]
     },
     "execution_count": 183,
     "metadata": {},
     "output_type": "execute_result"
    }
   ],
   "source": [
    "data.shape"
   ]
  },
  {
   "cell_type": "markdown",
   "metadata": {},
   "source": [
    "#### Quality Issues :\n",
    "\n",
    "* start_time and end_time are objects not timestamps\n",
    "* user type, gender and bike_share_for_all_trip can be set to category\n",
    "* bike_id, start_session_id, end_station_is can be set to object\n",
    "* we can calculate the age of the user\n",
    "* we can improve the quality of the data with more columns from the time such as month, daya, hourm week\n",
    "* we can calculate the distance for rides between stations"
   ]
  },
  {
   "cell_type": "markdown",
   "metadata": {},
   "source": [
    "#### Cleaning Data"
   ]
  },
  {
   "cell_type": "code",
   "execution_count": 184,
   "metadata": {},
   "outputs": [],
   "source": [
    "data_clean = data.copy()"
   ]
  },
  {
   "cell_type": "markdown",
   "metadata": {},
   "source": [
    "##### Define:\n",
    "`start_time` and `end_time` are objects not timestamps then convert the datatype to datetime\n",
    "`user type`, `member_gender` and `bike_share_for_all_trip` will be converted to the datatype category\n",
    "`bike_id`, `start_session_id`, `end_station_is` will be converted to the object datatype"
   ]
  },
  {
   "cell_type": "code",
   "execution_count": null,
   "metadata": {},
   "outputs": [],
   "source": [
    "#change datatypes to datetime\n",
    "data_clean['start_time'] = pd.to_datetime(data_clean['start_time'])\n",
    "data_clean['end_time'] = pd.to_datetime(data_clean['end_time'])"
   ]
  },
  {
   "cell_type": "code",
   "execution_count": null,
   "metadata": {},
   "outputs": [],
   "source": [
    "#change the datatype to category\n",
    "data_clean['user_type'] = data_clean['user_type'].astype('category')\n",
    "data_clean['member_gender'] = data_clean['member_gender'].astype('category')\n",
    "data_clean['bike_share_for_all_trip'] = data_clean['bike_share_for_all_trip'].astype('category')"
   ]
  },
  {
   "cell_type": "code",
   "execution_count": null,
   "metadata": {},
   "outputs": [],
   "source": [
    "#change the datatype to object\n",
    "data_clean['bike_id'] = data_clean['bike_id'].astype('str')\n",
    "data_clean['start_station_id'] = data_clean['start_station_id'].astype('str') \n",
    "data_clean['end_station_id'] = data_clean['end_station_id'].astype('str')"
   ]
  },
  {
   "cell_type": "markdown",
   "metadata": {},
   "source": [
    "##### Test"
   ]
  },
  {
   "cell_type": "code",
   "execution_count": null,
   "metadata": {},
   "outputs": [],
   "source": [
    "data_clean.info()"
   ]
  },
  {
   "cell_type": "markdown",
   "metadata": {},
   "source": [
    "#### Define\n",
    "Calculate the age of the member"
   ]
  },
  {
   "cell_type": "markdown",
   "metadata": {},
   "source": [
    "#### Code"
   ]
  },
  {
   "cell_type": "code",
   "execution_count": null,
   "metadata": {},
   "outputs": [],
   "source": [
    "#substract the birth year from the current year(2019 from the dataset)\n",
    "data_clean['member_age'] = 2019 - data_clean['member_birth_year']"
   ]
  },
  {
   "cell_type": "markdown",
   "metadata": {},
   "source": [
    "#### Test"
   ]
  },
  {
   "cell_type": "code",
   "execution_count": null,
   "metadata": {},
   "outputs": [],
   "source": [
    "data_clean.head()"
   ]
  },
  {
   "cell_type": "markdown",
   "metadata": {},
   "source": [
    "#### Define\n",
    "Enhance dataset with new date related fields"
   ]
  },
  {
   "cell_type": "markdown",
   "metadata": {},
   "source": [
    "#### Code"
   ]
  },
  {
   "cell_type": "code",
   "execution_count": null,
   "metadata": {},
   "outputs": [],
   "source": [
    "data_clean.head()"
   ]
  },
  {
   "cell_type": "markdown",
   "metadata": {},
   "source": [
    "#### Define:\n",
    "Enhance dataset with new date related fields"
   ]
  },
  {
   "cell_type": "markdown",
   "metadata": {},
   "source": [
    "#### Code:"
   ]
  },
  {
   "cell_type": "code",
   "execution_count": null,
   "metadata": {},
   "outputs": [],
   "source": [
    "# etxract start time month name\n",
    "data_clean['start_time_month_name'] = data_clean['start_time'].dt.strftime('%B')"
   ]
  },
  {
   "cell_type": "code",
   "execution_count": null,
   "metadata": {},
   "outputs": [],
   "source": [
    "#extract start time month number\n",
    "data_clean['start_time_month'] = data_clean['start_time'].dt.month.astype(int)"
   ]
  },
  {
   "cell_type": "code",
   "execution_count": null,
   "metadata": {},
   "outputs": [],
   "source": [
    "#extract start time day\n",
    "data_clean['start_time_weekday'] = data_clean['start_time'].dt.strftime('%a')"
   ]
  },
  {
   "cell_type": "code",
   "execution_count": null,
   "metadata": {},
   "outputs": [],
   "source": [
    "#extract start time day\n",
    "data_clean['start_time_day'] = data_clean['start_time'].dt.day.astype(int)"
   ]
  },
  {
   "cell_type": "code",
   "execution_count": null,
   "metadata": {},
   "outputs": [],
   "source": [
    "#extract start time hour\n",
    "data_clean['start_time_hour'] = data_clean['start_time'].dt.hour"
   ]
  },
  {
   "cell_type": "code",
   "execution_count": null,
   "metadata": {},
   "outputs": [],
   "source": [
    "data_clean['start_time_month'].unique()"
   ]
  },
  {
   "cell_type": "markdown",
   "metadata": {},
   "source": [
    "#### Test"
   ]
  },
  {
   "cell_type": "code",
   "execution_count": null,
   "metadata": {},
   "outputs": [],
   "source": [
    "data_clean.info(verbose =True, null_counts = True)"
   ]
  },
  {
   "cell_type": "code",
   "execution_count": null,
   "metadata": {},
   "outputs": [],
   "source": [
    "#set visualization style\n",
    "sns.set_style('whitegrid')\n",
    "sns.set_context(\"talk\")"
   ]
  },
  {
   "cell_type": "code",
   "execution_count": null,
   "metadata": {},
   "outputs": [],
   "source": [
    "# code for the age boxplot\n",
    "\n",
    "plt.figure(figsize = [14,6])\n",
    "base_color = sns.color_palette()[0]\n",
    "sns.boxplot(data = data_clean, x = 'member_age', color = base_color);\n",
    "plt.title(\"Age distribution of Forf GoBike users\", fontsize = 20, y=1.03)\n",
    "plt.xlabel('Bikers Age', fontsize =16, labelpad = 10)\n",
    "plt.savefig('image01.png');"
   ]
  },
  {
   "cell_type": "markdown",
   "metadata": {},
   "source": [
    "Here is the age distribution of users from ages 18 to 56 takes 95% of the users. There were users more than 100 years old. So, we can remove users more than 60 years old"
   ]
  },
  {
   "cell_type": "code",
   "execution_count": null,
   "metadata": {},
   "outputs": [],
   "source": [
    "#checking statistics for age\n",
    "data_clean.member_age.describe(percentiles = [.95])"
   ]
  },
  {
   "cell_type": "markdown",
   "metadata": {},
   "source": [
    "The mean age of riders from descriptive statistics is 34 years"
   ]
  },
  {
   "cell_type": "markdown",
   "metadata": {},
   "source": [
    "#### Define"
   ]
  },
  {
   "cell_type": "markdown",
   "metadata": {},
   "source": [
    "Remove age outliers. From the quality issues described aboved , the customers with the birth year before 1900 thus customers with age above 100 years. As 95% of the users are below 55. I am going to kees users below 60"
   ]
  },
  {
   "cell_type": "code",
   "execution_count": null,
   "metadata": {},
   "outputs": [],
   "source": [
    "data_clean = data_clean[data_clean['member_age'] <60]"
   ]
  },
  {
   "cell_type": "code",
   "execution_count": null,
   "metadata": {},
   "outputs": [],
   "source": [
    "data_clean.drop('member_birth_year', axis =1, inplace = True)"
   ]
  },
  {
   "cell_type": "code",
   "execution_count": null,
   "metadata": {},
   "outputs": [],
   "source": [
    "#change age and birth year and integer\n",
    "data_clean.member_age = data_clean.member_age.astype(int)"
   ]
  },
  {
   "cell_type": "markdown",
   "metadata": {},
   "source": [
    "#### Test"
   ]
  },
  {
   "cell_type": "code",
   "execution_count": null,
   "metadata": {},
   "outputs": [],
   "source": [
    "sum(data_clean['member_age']>60)"
   ]
  },
  {
   "cell_type": "code",
   "execution_count": null,
   "metadata": {},
   "outputs": [],
   "source": [
    "data_clean.head()"
   ]
  },
  {
   "cell_type": "code",
   "execution_count": null,
   "metadata": {},
   "outputs": [],
   "source": [
    "data_clean.info()"
   ]
  },
  {
   "cell_type": "code",
   "execution_count": null,
   "metadata": {},
   "outputs": [],
   "source": [
    "#data_clean.to_csv('clean_data.csv', index = False)"
   ]
  },
  {
   "cell_type": "markdown",
   "metadata": {},
   "source": [
    "There are 170993 rides in the dataset with features like bike_id, user_type, member_age, start_station_name etc. Most variables are numeric in the dataset. The dataset contained features about:\n",
    "\n",
    "* trip duration: start/end time, how long the trip took in seconds\n",
    "* stations: start/end station, name, geolocation (latitude/longitude)\n",
    "* anonymized customer data: gender, birth date and user type\n",
    "* rented bikes: bike id\n",
    "\n",
    "The dataset was further enhanced with features that I may find neccessary to perform interesting analysis:\n",
    "\n",
    "* rental time: month, day, hour of the day, weekday (both for start and end date)\n",
    "* customer: age"
   ]
  },
  {
   "cell_type": "markdown",
   "metadata": {},
   "source": [
    "#### List the main feature(s) of interest in your dataset? ####"
   ]
  },
  {
   "cell_type": "markdown",
   "metadata": {},
   "source": [
    "I'm most interested in figuring out when and where bikes are high in demand (during the day/weekday/month). \n",
    "Moreover which age range and gender uses the service the most and if the service is mostly used by members or casual riders.\n",
    "\n",
    "I expect that the start time will be most exploited in my analysis as well as customer related data. I expect that location and datetime will have the strongest effect on bike demand."
   ]
  },
  {
   "cell_type": "markdown",
   "metadata": {},
   "source": [
    "### Univariate Exploration ###"
   ]
  },
  {
   "cell_type": "markdown",
   "metadata": {},
   "source": [
    "I'll start by looking at weekday trend of number of bike rentals and distribution of hours of the daty I will also explore the duration of trips"
   ]
  },
  {
   "cell_type": "code",
   "execution_count": null,
   "metadata": {},
   "outputs": [],
   "source": [
    "# monthly usage of the bike sharing system\n",
    "plt.figure(figsize = [10,6])\n",
    "weekday = ['Mon', 'Tue', 'Wed', 'Thu', 'Fri', 'Sat', 'Sun']\n",
    "g = sns.countplot(data = data_clean, x = 'start_time_weekday', color = base_color, order = weekday)\n",
    "g.set(xlabel = 'Month', ylabel='Bike Trips')\n",
    "plt.title('Monthly Usage of the bike share system', y = 1.03, fontsize = 14, fontweight = 'semibold')\n",
    "plt.savefig('image002.png')"
   ]
  },
  {
   "cell_type": "markdown",
   "metadata": {},
   "source": [
    "The bike share system is mainly used during weekdays, with Tuesdat - Thursday as the most popular days for bike rides. The system is most probably used as a daily work/school commute"
   ]
  },
  {
   "cell_type": "code",
   "execution_count": null,
   "metadata": {},
   "outputs": [],
   "source": [
    "plt.figure(figsize = [10,6])\n",
    "g = sns.countplot(data = data_clean, x = 'start_time_hour', color = base_color)\n",
    "g.set(xlabel = 'Hours', ylabel = \"Bike Trips\")\n",
    "plt.title('Hourly usage of the bike share system', y = 1.03, fontsize =14, fontweight = 'semibold')\n",
    "plt.savefig('image03.png');"
   ]
  },
  {
   "cell_type": "markdown",
   "metadata": {},
   "source": [
    "The hourly distribution is bimodal, the system is used mainly 8-9am and 5-6pm when people are going to work and coming back fro work"
   ]
  },
  {
   "cell_type": "code",
   "execution_count": null,
   "metadata": {},
   "outputs": [],
   "source": [
    "#let's now check distribution per user type\n",
    "data_clean.describe()['duration_sec']"
   ]
  },
  {
   "cell_type": "code",
   "execution_count": null,
   "metadata": {},
   "outputs": [],
   "source": [
    "plt.figure(figsize = [10,6])\n",
    "bin_edges = np.arange(0,3600,60)\n",
    "plt.hist(data = data_clean, x='duration_sec', bins = bin_edges)\n",
    "plt.title(\"Trip duration (sec) histogram\", y=1.03, fontsize = 14, fontweight = 'semibold')\n",
    "plt.xlabel('Weekday')\n",
    "plt.ylabel(\"Duration(sec)\")\n",
    "plt.savefig('image04.png');"
   ]
  },
  {
   "cell_type": "markdown",
   "metadata": {},
   "source": [
    "Looking at the histogram, we can see that trip durations are no longer than 30 min (1800 sec) and usually last 6 to 15 min. This can be explained by two facts:\n",
    "\n",
    "* The way the system works: single trips and 24h or 72h access pass are free of additional charge for trips up to 30 min, otherwise you pay extra $3 for additional 15 min. Only the monthly pass offers free of charge 45 min rides.\n",
    "* The way the system is used: as is looks like people use the system for commuting, they trips are usually short in time probably due to the closeness of their homes to workplace/school."
   ]
  },
  {
   "cell_type": "markdown",
   "metadata": {},
   "source": [
    "### Bivariate Exploration ###"
   ]
  },
  {
   "cell_type": "code",
   "execution_count": null,
   "metadata": {},
   "outputs": [],
   "source": [
    "customer = data_clean.query('user_type ==\"Customer\"')['bike_id'].count()\n",
    "subscriber = data_clean.query('user_type == \"Subscriber\"')['bike_id'].count()\n",
    "\n",
    "customer_proportion = customer / data_clean['bike_id'].count()\n",
    "subcriber_proportion = subscriber /data_clean['bike_id'].count()"
   ]
  },
  {
   "cell_type": "code",
   "execution_count": null,
   "metadata": {},
   "outputs": [],
   "source": [
    "plt.figure(figsize = [14,5])\n",
    "\n",
    "#code for the bar chart\n",
    "plt.subplot(1,2,1)\n",
    "\n",
    "g = sns.countplot(data = data_clean, x='user_type',  order = data_clean.user_type.value_counts().index)\n",
    "g.set_xlabel(\"User Type\")\n",
    "g.set_ylabel(\"Biker Trips\")\n",
    "\n",
    "#code for the pie chart\n",
    "plt.subplot(1,2,2)\n",
    "\n",
    "labels = ['Customer', 'Subscriber']\n",
    "sizes = [customer_proportion, subcriber_proportion]\n",
    "colors = ['green', 'red']\n",
    "explode = (0,0.1)\n",
    "\n",
    "plt.pie(sizes, explode = explode, labels = labels, colors = colors,\n",
    "       autopct = \"%1.1f%%\", shadow=True, startangle = 90)\n",
    "\n",
    "plt.title('equal')\n",
    "plt.title(\"User type split for GoBike sharing system\", y =1.03, fontsize = 14, fontweight = 'semibold')\n",
    "plt.savefig('image05.png')"
   ]
  },
  {
   "cell_type": "markdown",
   "metadata": {},
   "source": [
    "The bike sharing system is mainly used by subscribers (88.6%) than occassional riders (11.4%)\n",
    "\n",
    "Next lets check the renting trends per each user type"
   ]
  },
  {
   "cell_type": "code",
   "execution_count": null,
   "metadata": {},
   "outputs": [],
   "source": [
    "data_clean['user_type'].head()"
   ]
  },
  {
   "cell_type": "code",
   "execution_count": null,
   "metadata": {},
   "outputs": [],
   "source": [
    "# monthly usage of the bike sharing system per user type\n",
    "sns.set(rc = {'figure.figsize':(15,8)})\n",
    "g = sns.catplot(data=data_clean, x = 'start_time_weekday', col = \"user_type\", kind = 'count', sharey = False, palette = \"Greens\")\n",
    "g.set_axis_labels(\"Weekday\", \"Bike Trips\")\n",
    "g.set_titles(\"{col_name}\")\n",
    "g.fig.suptitle(\"Weekday usage of the bike share system per user per type\", y  =1.03, fontsize = 14);\n",
    "plt.savefig('image06.png');"
   ]
  },
  {
   "cell_type": "markdown",
   "metadata": {},
   "source": [
    "There is a different trend on which days customers and subscribers rent bikes. As mentioned above customers are most probably occasional riders and tourist who use the bike sharing system on holiday or weekend trips. On the other hand, subscribers are most probably daily work/school commuters who use the system within a week. \n"
   ]
  },
  {
   "cell_type": "markdown",
   "metadata": {},
   "source": [
    "Now, lets check when within a day bikes are high in demand."
   ]
  },
  {
   "cell_type": "code",
   "execution_count": null,
   "metadata": {},
   "outputs": [],
   "source": [
    "# hourly useage of the bike sharing system per user type\n",
    "sns.set(rc={'figure.figsize':(15,8)})\n",
    "g = sns.catplot(data=data_clean, x='start_time_hour', col=\"user_type\", kind='count', sharey = False, color = base_color)\n",
    "g.set_axis_labels(\"Hour\", \"Bike Trips\")\n",
    "g.set_titles(\"{col_name}\")\n",
    "g.fig.suptitle('Hourly usage of the bike share system per user type', y=1.03, fontsize=14, fontweight='semibold');\n",
    "plt.savefig('image07.png');"
   ]
  },
  {
   "cell_type": "code",
   "execution_count": null,
   "metadata": {},
   "outputs": [],
   "source": [
    "#code for the (histogram) duration (Sec) distribution per user\n",
    "\n",
    "sns.set(rc = {'figure.figsize': (15,8)})\n",
    "g = sns.FacetGrid(data_clean, col = \"user_type\", margin_titles = True, size = 5)\n",
    "bin_edges = np.arange(0, 3600, 60)\n",
    "g.map(plt.hist, \"duration_sec\", color= base_color, bins = bin_edges)\n",
    "g.set_axis_labels(\"Duration(sec)\", \"Bike Trips\")\n",
    "g.set_titles(col_template = \"{col_name}\")\n",
    "g.fig.suptitle('Trip duration (sec) histogram per user type', y = 1.03, fontsize=14, fontweight = 'semibold')\n",
    "plt.savefig('image08')"
   ]
  },
  {
   "cell_type": "code",
   "execution_count": null,
   "metadata": {},
   "outputs": [],
   "source": [
    "#code for the (boxplot) duration (sec) distribution per user type\n",
    "\n",
    "sns.set(rc = {'figure.figsize':(15,8)})\n",
    "data = data_clean.query('duration_sec < 3600')\n",
    "g = sns.catplot(data  =data, y='duration_sec', col = 'user_type', kind = 'box', color = base_color)\n",
    "g.set_titles(col_template = '{col_name}')\n",
    "g.set_axis_labels(\"\", \"Trip duration (sec)\")\n",
    "g.fig.suptitle('Trip duration (sec) boxplot per user type', y = 1.03, fontsize = 14, fontweight = 'semibold');\n",
    "plt.savefig('image09.png');"
   ]
  },
  {
   "cell_type": "markdown",
   "metadata": {},
   "source": [
    "Looking at both charts (histograms and box plots), we can see that trip durations are longer for customers (9 to 23 minutes) than for subscribers (7 to 13 minutes). This can probably be explained by the fact that subscribers are mainly commuters who take short trips to work/school rather than longer trips around the Bay Area."
   ]
  },
  {
   "cell_type": "markdown",
   "metadata": {},
   "source": [
    "#### How did the features(s) of interest very with other feature in the dataset?"
   ]
  },
  {
   "cell_type": "markdown",
   "metadata": {},
   "source": [
    "Adding the user type to the analysis depicted different usage behaviours between customers and subscribers. As mentioned above customers are casual riders, most probably tourists who rent bikes more often during weekends than weekdays and they rent bikes more often within the day rather than around commute hours (8-9am and 5-6pm).  They rent bikes more often during weekdays than weekends and mainly around the time they go and go back from work or school (8-9am and 5-6pm)."
   ]
  },
  {
   "cell_type": "markdown",
   "metadata": {},
   "source": [
    "#### Did you observe any interesting relationships between the other features? ####"
   ]
  },
  {
   "cell_type": "markdown",
   "metadata": {},
   "source": [
    "There is a difference in the trip duration between customers and subscribers. Customers trips are usually longer than for subscribers, most probably due to the fact they prefer bike rides around weekends in summertime, what encourages longer trips around the area. Subscribers on the other hand use the system mainly for commute purposes so they rather prefer quick rides to and from work/school."
   ]
  },
  {
   "cell_type": "markdown",
   "metadata": {},
   "source": [
    "### Multivariate Exploration ###"
   ]
  },
  {
   "cell_type": "markdown",
   "metadata": {},
   "source": [
    "I will further explore the dataset by adding gender to the customer typeand check rh hourly distibution of bike rides during weekdays for custoemrs and subribers"
   ]
  },
  {
   "cell_type": "code",
   "execution_count": null,
   "metadata": {},
   "outputs": [],
   "source": [
    "plt.figure(figsize  = [15,8])\n",
    "\n",
    "#code for the bar chart\n",
    "\n",
    "g = sns.countplot(data= data_clean, x = \"user_type\", hue = \"member_gender\", order = data_clean.user_type.value_counts().index)\n",
    "g.set_xlabel(\"User Type\")\n",
    "g.set_ylabel(\"Bike Trips\")\n",
    "plt.savefig('image10.png')"
   ]
  },
  {
   "cell_type": "markdown",
   "metadata": {},
   "source": [
    "In general, males are using the system more often than females and others (the registration system allows you to choose 'Other' as a gender). However, the ratio is much smaller between males and females for customers (more ore less 2:1) than for subscribers (3:1). "
   ]
  },
  {
   "cell_type": "markdown",
   "metadata": {},
   "source": [
    "Let's explore if gender affects the way the bike system is used within a year, weekdays and hours of the day.`"
   ]
  },
  {
   "cell_type": "code",
   "execution_count": null,
   "metadata": {},
   "outputs": [],
   "source": [
    "# weekday usege of the bike sharing system per user type and gender\n",
    "sns.set(rc={'figure.figsize':(15,8)})\n",
    "\n",
    "weekday = ['Mon', 'Tue', 'Wed', 'Thu', 'Fri', 'Sat', 'Sun']\n",
    "g = sns.catplot(data=data_clean, x='start_time_weekday', col=\"user_type\", hue='member_gender', kind='count', sharey = False,\n",
    "                order = weekday)\n",
    "g.set_axis_labels(\"Weekday\", \"Bike Trips\")\n",
    "g._legend.set_title('Gender')\n",
    "g.set_titles(\"{col_name}\")\n",
    "g.fig.suptitle('Weekly usage of the bike share system per user type and gender', y=1.03, fontsize=14, fontweight='semibold')\n",
    "plt.savefig('image11.png');"
   ]
  },
  {
   "cell_type": "markdown",
   "metadata": {},
   "source": [
    "As in the previous section, the trend is very similar for males and females: customers use the system more often during weekends than within a week; subscribers use the system mainly within a week."
   ]
  },
  {
   "cell_type": "code",
   "execution_count": null,
   "metadata": {},
   "outputs": [],
   "source": [
    "# hourly useage of the bike sharing system per user type and gender\n",
    "sns.set(rc={'figure.figsize':(15,9)})\n",
    "\n",
    "g = sns.catplot(data=data_clean, x='start_time_hour', col=\"user_type\", hue='member_gender', kind='count', sharey = False)\n",
    "g.set_axis_labels(\"Hour\", \"Bike Trips\")\n",
    "g._legend.set_title('Gender')\n",
    "g.set_titles(\"{col_name}\")\n",
    "g.fig.suptitle('Hourly usage of the bike share system per user type and gender', y=1.03, fontsize=14, fontweight='semibold')\n",
    "plt.savefig('image12.png');"
   ]
  },
  {
   "cell_type": "markdown",
   "metadata": {},
   "source": [
    "During the day, both males and females use the system the same way: customers use bikes mainly between 8 am - 7 pm; subscribers on the other side use the system at around 8-9am and 5-6pm when they go and come back from work."
   ]
  },
  {
   "cell_type": "code",
   "execution_count": null,
   "metadata": {},
   "outputs": [],
   "source": [
    "# code for the (violinplot) duration (sec) distribution per user type and gender\n",
    "sns.set(rc={'figure.figsize':(15,10)})\n",
    "g = sns.catplot(data=data, x='user_type', y=\"duration_sec\", hue=\"member_gender\", kind=\"violin\")\n",
    "\n",
    "g.set_axis_labels(\"User Type\", \"Trip duration (sec)\")\n",
    "g._legend.set_title('Gender')\n",
    "g.fig.suptitle('Trip duration per user type and gender', y=1.03, fontsize=14, fontweight='semibold')\n",
    "plt.savefig('image13.png');"
   ]
  },
  {
   "cell_type": "markdown",
   "metadata": {},
   "source": [
    "we can observe that in both cases, females take longer trips (measured in time) than males and other. The difference is more visible for customers (~13 min for males and other vs ~15 for females) than for subscribers (the difference is quite small)."
   ]
  },
  {
   "cell_type": "code",
   "execution_count": null,
   "metadata": {},
   "outputs": [],
   "source": [
    "# Setting the weekday order\n",
    "data_clean['start_time_weekday'] = pd.Categorical(data_clean['start_time_weekday'], \n",
    "                                                categories=['Mon','Tue','Wed','Thu','Fri','Sat', 'Sun'], \n",
    "                                                ordered=True)\n",
    "plt.figure(figsize=(15,8))\n",
    "plt.suptitle('Hourly usage during the weekday for customers and subscribers', fontsize=14, fontweight='semibold')\n",
    "\n",
    "# heatmap for customers\n",
    "plt.subplot(1, 2, 1)\n",
    "data_customer = data_clean.query('user_type == \"Customer\"').groupby([\"start_time_hour\", \"start_time_weekday\"])[\"bike_id\"].size().reset_index()\n",
    "data_customer = data_customer.pivot(\"start_time_hour\", \"start_time_weekday\", \"bike_id\")\n",
    "sns.heatmap(data_customer, cmap=\"Greens\")\n",
    "\n",
    "plt.title(\"Customer\", y=1.015)\n",
    "plt.xlabel('Weekday')\n",
    "plt.ylabel('Start Time Hour')\n",
    "\n",
    "# heatmap for subscribers\n",
    "plt.subplot(1, 2, 2)\n",
    "data_subscriber = data_clean.query('user_type == \"Subscriber\"').groupby([\"start_time_hour\", \"start_time_weekday\"])[\"bike_id\"].size().reset_index()\n",
    "data_subscriber = data_subscriber.pivot(\"start_time_hour\", \"start_time_weekday\", \"bike_id\")\n",
    "sns.heatmap(data_subscriber, cmap=\"Greens\")\n",
    "\n",
    "plt.title(\"Subscriber\", y=1.015)\n",
    "plt.xlabel('Weekday')\n",
    "plt.ylabel('')\n",
    "plt.savefig('image14.png');"
   ]
  },
  {
   "cell_type": "markdown",
   "metadata": {},
   "source": [
    "The plot perfectly summarizes in one place the diffrent trends for customers and subscribers"
   ]
  },
  {
   "cell_type": "markdown",
   "metadata": {},
   "source": [
    "#### Customers use the bike sharing system more often on weekends: ####"
   ]
  },
  {
   "cell_type": "markdown",
   "metadata": {},
   "source": [
    "* weekdays: most bike rides hapen around 8-9am and 5-6pm with the peak on Fridays around 5pm\n",
    "* weekends: most bike rides happen between 10am - 8pm with the peak on Saturdays around 2pm"
   ]
  },
  {
   "cell_type": "markdown",
   "metadata": {},
   "source": [
    "#### Subscribers use the bike sharing system mainly on weekdays: ####"
   ]
  },
  {
   "cell_type": "markdown",
   "metadata": {},
   "source": [
    "* weekdays: most bike rides hapen around 8-9am and 5-6pm with the peak on Tuesdays around 8am\n",
    "* weekends: bikes are still rented but there is a significant drop in numbers of rented bikes throughout the entire weekends"
   ]
  }
 ],
 "metadata": {
  "kernelspec": {
   "display_name": "Python 3",
   "language": "python",
   "name": "python3"
  },
  "language_info": {
   "codemirror_mode": {
    "name": "ipython",
    "version": 3
   },
   "file_extension": ".py",
   "mimetype": "text/x-python",
   "name": "python",
   "nbconvert_exporter": "python",
   "pygments_lexer": "ipython3",
   "version": "3.8.5"
  }
 },
 "nbformat": 4,
 "nbformat_minor": 4
}
